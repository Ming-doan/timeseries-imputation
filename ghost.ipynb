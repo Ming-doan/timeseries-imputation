{
 "cells": [
  {
   "cell_type": "markdown",
   "metadata": {},
   "source": [
    "# 👻 Ghost on Local\n",
    "---\n",
    "[![Phantom](https://img.shields.io/badge/Version-2.0-teal.svg)]()\n",
    "[![Phantom](https://img.shields.io/badge/Github-👻-black.svg)](https://github.com/Ming-doan/timeseries-imputation.git)"
   ]
  },
  {
   "cell_type": "code",
   "execution_count": null,
   "metadata": {},
   "outputs": [],
   "source": [
    "import pandas as pd\n",
    "from modules.alias import get_by_aliases\n",
    "from modules.utils.preprocessing import Preprocessing\n",
    "from modules.utils.missing import CreateMissingDataFrame\n",
    "from modules.train import Trainer\n",
    "from modules.models import *\n",
    "from modules.utils.callbacks import SavePlot, Combined\n",
    "from modules.utils.generator import WindowGenerator\n",
    "from modules.utils.cache import Cache"
   ]
  },
  {
   "cell_type": "code",
   "execution_count": null,
   "metadata": {},
   "outputs": [],
   "source": [
    "# Datasets\n",
    "DATASET = 'PhuLien'\n",
    "SELECTED_COLUMNS = ['WaterLevel']\n",
    "# Missing values\n",
    "MISSING_PERCENTAGE = 10\n",
    "MISSING_GAPS = 1\n",
    "SEED = 123\n",
    "MODE = 'Linear' # 'Random', 'Linear'\n",
    "# Models\n",
    "WINDOW_SIZE = 200\n",
    "BATCH_SIZE = 10\n",
    "MODELS = get_by_aliases(['cnn1d'])"
   ]
  },
  {
   "cell_type": "markdown",
   "metadata": {},
   "source": [
    "### Preprocessing"
   ]
  },
  {
   "cell_type": "code",
   "execution_count": null,
   "metadata": {},
   "outputs": [],
   "source": [
    "import os\n",
    "if not os.path.exists('results'):\n",
    "    os.makedirs('results')"
   ]
  },
  {
   "cell_type": "code",
   "execution_count": null,
   "metadata": {},
   "outputs": [],
   "source": [
    "# Read CSV\n",
    "df = pd.read_csv(f'{DATASET}.csv')\n",
    "df = df[SELECTED_COLUMNS]"
   ]
  },
  {
   "cell_type": "code",
   "execution_count": null,
   "metadata": {},
   "outputs": [],
   "source": [
    "# Preprocessing data\n",
    "preprocessing = Preprocessing()\n",
    "df = preprocessing.flow(df)"
   ]
  },
  {
   "cell_type": "code",
   "execution_count": null,
   "metadata": {},
   "outputs": [],
   "source": [
    "# Create missing data\n",
    "creator = CreateMissingDataFrame(df, MISSING_PERCENTAGE, MISSING_GAPS, split_mode=MODE, seed=SEED)"
   ]
  },
  {
   "cell_type": "code",
   "execution_count": null,
   "metadata": {},
   "outputs": [],
   "source": [
    "creator.plot(save_path='results/missing_data.png')"
   ]
  },
  {
   "cell_type": "code",
   "execution_count": null,
   "metadata": {},
   "outputs": [],
   "source": [
    "missing_length = creator.missing_indexs[0][1] - creator.missing_indexs[0][0]\n",
    "assert missing_length > WINDOW_SIZE, f'Window size is too large. Expect smaller than {missing_length}, found {WINDOW_SIZE}.'\n",
    "assert missing_length > BATCH_SIZE, f'Batch size is too large. Expect smaller than {missing_length}, found {BATCH_SIZE}.'"
   ]
  },
  {
   "cell_type": "markdown",
   "metadata": {},
   "source": [
    "### Training"
   ]
  },
  {
   "cell_type": "code",
   "execution_count": null,
   "metadata": {},
   "outputs": [],
   "source": [
    "# Training\n",
    "trainer = Trainer(model=MODELS)\n",
    "combined_callback = Combined(n_models=len(MODELS), save_directory=\"results\")\n",
    "sp = SavePlot(n_models=len(MODELS), save_directory=\"results\")\n",
    "cache = Cache(live_cache=True)\n",
    "\n",
    "for train_df, test_df in creator:\n",
    "    train_gen = WindowGenerator(train_df, WINDOW_SIZE, BATCH_SIZE)\n",
    "    test_gen = WindowGenerator(test_df, WINDOW_SIZE, BATCH_SIZE)\n",
    "\n",
    "    trainer.train(train_gen, test_gen, callbacks=[sp, combined_callback], cache=cache)\n",
    "    trainer.reset()"
   ]
  },
  {
   "cell_type": "code",
   "execution_count": null,
   "metadata": {},
   "outputs": [],
   "source": [
    "combined_callback.metrics.metrics.to_csv('results/metrics.csv', index=False)\n",
    "combined_callback.metrics.metrics"
   ]
  }
 ],
 "metadata": {
  "kernelspec": {
   "display_name": "machine-learning",
   "language": "python",
   "name": "python3"
  },
  "language_info": {
   "codemirror_mode": {
    "name": "ipython",
    "version": 3
   },
   "file_extension": ".py",
   "mimetype": "text/x-python",
   "name": "python",
   "nbconvert_exporter": "python",
   "pygments_lexer": "ipython3",
   "version": "3.11.4"
  }
 },
 "nbformat": 4,
 "nbformat_minor": 2
}
