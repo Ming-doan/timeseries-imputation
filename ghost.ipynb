{
 "cells": [
  {
   "cell_type": "markdown",
   "metadata": {},
   "source": [
    "# 👻 Ghost on Local\n",
    "---\n",
    "[![Phantom](https://img.shields.io/badge/Version-2.0-teal.svg)]()\n",
    "[![Phantom](https://img.shields.io/badge/Github-👻-black.svg)](https://github.com/Ming-doan/timeseries-imputation.git)"
   ]
  },
  {
   "cell_type": "code",
   "execution_count": null,
   "metadata": {},
   "outputs": [],
   "source": [
    "import pandas as pd\n",
    "from modules.alias import get_by_aliases\n",
    "from modules.utils.preprocessing import Preprocessing\n",
    "from modules.utils.missing import CreateMissingDataFrame\n",
    "from modules import Trainer\n",
    "from modules.models import *\n",
    "from modules.utils.callbacks import SavePlot, Combined\n",
    "from modules.utils.generator import WindowGenerator\n",
    "from modules.utils.cache import Cache"
   ]
  },
  {
   "cell_type": "code",
   "execution_count": null,
   "metadata": {},
   "outputs": [],
   "source": [
    "# Datasets\n",
    "DATASET = 'PhuLien'\n",
    "SELECTED_COLUMNS = ['WaterLevel']\n",
    "# Missing values\n",
    "MISSING_PERCENTAGE = 13\n",
    "MISSING_GAPS = 1\n",
    "SEED = 42\n",
    "MODE = 'Random' # 'Random', 'Linear'\n",
    "# Models\n",
    "WINDOW_SIZE = 12\n",
    "BATCH_SIZE = 1\n",
    "MODELS = get_by_aliases(['rf'])"
   ]
  },
  {
   "cell_type": "markdown",
   "metadata": {},
   "source": [
    "### Preprocessing"
   ]
  },
  {
   "cell_type": "code",
   "execution_count": null,
   "metadata": {},
   "outputs": [],
   "source": [
    "import os\n",
    "if not os.path.exists('results'):\n",
    "    os.makedirs('results')"
   ]
  },
  {
   "cell_type": "code",
   "execution_count": null,
   "metadata": {},
   "outputs": [],
   "source": [
    "# Read CSV\n",
    "df = pd.read_csv(f'{DATASET}.csv')\n",
    "df = df[SELECTED_COLUMNS]"
   ]
  },
  {
   "cell_type": "code",
   "execution_count": null,
   "metadata": {},
   "outputs": [],
   "source": [
    "# Preprocessing data\n",
    "preprocessing = Preprocessing()\n",
    "df = preprocessing.flow(df)"
   ]
  },
  {
   "cell_type": "code",
   "execution_count": null,
   "metadata": {},
   "outputs": [],
   "source": [
    "# Create missing data\n",
    "creator = CreateMissingDataFrame(df, MISSING_PERCENTAGE, MISSING_GAPS, split_mode=MODE, seed=SEED, is_constant_missing=True)"
   ]
  },
  {
   "cell_type": "code",
   "execution_count": null,
   "metadata": {},
   "outputs": [],
   "source": [
    "creator.plot(save_path='results/missing_data.png')"
   ]
  },
  {
   "cell_type": "markdown",
   "metadata": {},
   "source": [
    "### Training"
   ]
  },
  {
   "cell_type": "code",
   "execution_count": null,
   "metadata": {},
   "outputs": [],
   "source": [
    "# Training\n",
    "trainer = Trainer(model=MODELS)\n",
    "combined_callback = Combined(n_models=len(MODELS), combination_mode='data_per', df=creator, save_directory=\"results\")\n",
    "sp = SavePlot(n_models=len(MODELS), save_directory=\"results\")\n",
    "cache = Cache(live_cache=True)\n",
    "\n",
    "for train_df, test_df in creator:\n",
    "    train_gen = WindowGenerator(train_df, WINDOW_SIZE, BATCH_SIZE)\n",
    "    test_gen = WindowGenerator(test_df, WINDOW_SIZE, BATCH_SIZE)\n",
    "\n",
    "    trainer.train(train_gen, test_gen, callbacks=[sp, combined_callback], cache=cache)\n",
    "    trainer.reset()"
   ]
  },
  {
   "cell_type": "code",
   "execution_count": null,
   "metadata": {},
   "outputs": [],
   "source": [
    "combined_callback.metrics.metrics.to_csv('results/metrics.csv', index=False)\n",
    "combined_callback.metrics.metrics"
   ]
  },
  {
   "cell_type": "code",
   "execution_count": null,
   "metadata": {},
   "outputs": [],
   "source": [
    "for model in MODELS:\n",
    "    print(f'{model.name}: {model.get_params()}')"
   ]
  },
  {
   "cell_type": "code",
   "execution_count": null,
   "metadata": {},
   "outputs": [],
   "source": [
    "# Plot history\n",
    "import matplotlib.pyplot as plt\n",
    "for model in MODELS:\n",
    "    if 'histories' in dir(model):\n",
    "        try:\n",
    "            fig, ax = plt.subplots(1, 2, figsize=(15, 5))\n",
    "            ax[0].plot(model.histories[0].history['loss'], label='Pipeline')\n",
    "            ax[0].legend()\n",
    "            ax[1].plot(model.histories[1].history['loss'], label='Reverse Pipeline')\n",
    "            ax[1].legend()\n",
    "            fig.suptitle(f'Loss of {model.name}')\n",
    "            plt.tight_layout()\n",
    "        except Exception as e:\n",
    "            print(e)\n",
    "            print('\\033[91mCannot plot history of model', model.name)"
   ]
  }
 ],
 "metadata": {
  "kernelspec": {
   "display_name": "machine-learning",
   "language": "python",
   "name": "python3"
  },
  "language_info": {
   "codemirror_mode": {
    "name": "ipython",
    "version": 3
   },
   "file_extension": ".py",
   "mimetype": "text/x-python",
   "name": "python",
   "nbconvert_exporter": "python",
   "pygments_lexer": "ipython3",
   "version": "3.11.4"
  }
 },
 "nbformat": 4,
 "nbformat_minor": 2
}
